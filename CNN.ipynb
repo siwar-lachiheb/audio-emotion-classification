{
  "cells": [
    {
      "cell_type": "code",
      "execution_count": 2,
      "metadata": {
        "id": "yB_rIECnIETr"
      },
      "outputs": [],
      "source": [
        "import pandas as pd\n",
        "import numpy as np\n",
        "\n",
        "import os\n",
        "import sys\n",
        "\n",
        "# librosa is a Python library for analyzing audio and music. It can be used to extract the data from the audio files we will see it later.\n",
        "import librosa\n",
        "import librosa.display\n",
        "import seaborn as sns\n",
        "import matplotlib.pyplot as plt\n",
        "\n",
        "from sklearn.preprocessing import StandardScaler, OneHotEncoder\n",
        "from sklearn.metrics import confusion_matrix, classification_report\n",
        "from sklearn.model_selection import train_test_split\n",
        "\n",
        "# to play the audio files\n",
        "from IPython.display import Audio\n",
        "\n",
        "import keras\n",
        "from keras.callbacks import ReduceLROnPlateau\n",
        "from keras.models import Sequential\n",
        "from keras.layers import Dense, Conv1D, MaxPooling1D, Flatten, Dropout, BatchNormalization\n",
        "from keras.utils import np_utils, to_categorical\n",
        "from keras.callbacks import ModelCheckpoint\n",
        "\n",
        "import warnings\n",
        "if not sys.warnoptions:\n",
        "    warnings.simplefilter(\"ignore\")\n",
        "warnings.filterwarnings(\"ignore\", category=DeprecationWarning)"
      ]
    },
    {
      "cell_type": "code",
      "execution_count": 3,
      "metadata": {
        "id": "cP8mFoe0Jj-w"
      },
      "outputs": [],
      "source": [
        "data=pd.read_csv('/content/drive/MyDrive/modeldata.csv')"
      ]
    },
    {
      "cell_type": "code",
      "execution_count": 4,
      "metadata": {
        "id": "SaZYY2VYIdYl"
      },
      "outputs": [],
      "source": [
        "X = data.iloc[: ,:-1].values\n",
        "Y = data['emo'].values"
      ]
    },
    {
      "cell_type": "code",
      "execution_count": 5,
      "metadata": {
        "id": "7262qm3MJ6YK"
      },
      "outputs": [],
      "source": [
        "encoder = OneHotEncoder()\n",
        "Y = encoder.fit_transform(np.array(Y).reshape(-1,1)).toarray()"
      ]
    },
    {
      "cell_type": "code",
      "execution_count": 6,
      "metadata": {
        "id": "JysY5EFpJ78n",
        "colab": {
          "base_uri": "https://localhost:8080/"
        },
        "outputId": "1660fc70-6b41-4097-b62e-c90f7662d6cf"
      },
      "outputs": [
        {
          "output_type": "execute_result",
          "data": {
            "text/plain": [
              "((7046, 801), (7046, 5), (2349, 801), (2349, 5))"
            ]
          },
          "metadata": {},
          "execution_count": 6
        }
      ],
      "source": [
        "x_train, x_test, y_train, y_test = train_test_split(X, Y, random_state=0, shuffle=True)\n",
        "x_train.shape, y_train.shape, x_test.shape, y_test.shape"
      ]
    },
    {
      "cell_type": "code",
      "execution_count": 7,
      "metadata": {
        "id": "JGVF4LL-KB1R",
        "colab": {
          "base_uri": "https://localhost:8080/"
        },
        "outputId": "716a2ec6-73d0-4313-93af-d795fbca6dd3"
      },
      "outputs": [
        {
          "output_type": "execute_result",
          "data": {
            "text/plain": [
              "((7046, 801), (7046, 5), (2349, 801), (2349, 5))"
            ]
          },
          "metadata": {},
          "execution_count": 7
        }
      ],
      "source": [
        "# scaling our data with sklearn's Standard scaler\n",
        "scaler = StandardScaler()\n",
        "x_train = scaler.fit_transform(x_train)\n",
        "x_test = scaler.transform(x_test)\n",
        "x_train.shape, y_train.shape, x_test.shape, y_test.shape"
      ]
    },
    {
      "cell_type": "code",
      "execution_count": 8,
      "metadata": {
        "id": "hDlTtOTuKd2N",
        "colab": {
          "base_uri": "https://localhost:8080/"
        },
        "outputId": "b10768d9-509d-4836-fe48-f198cc150b28"
      },
      "outputs": [
        {
          "output_type": "execute_result",
          "data": {
            "text/plain": [
              "((7046, 801, 1), (7046, 5), (2349, 801, 1), (2349, 5))"
            ]
          },
          "metadata": {},
          "execution_count": 8
        }
      ],
      "source": [
        "# making our data compatible to model.\n",
        "x_train = np.expand_dims(x_train, axis=2)\n",
        "x_test = np.expand_dims(x_test, axis=2)\n",
        "x_train.shape, y_train.shape, x_test.shape, y_test.shape"
      ]
    },
    {
      "cell_type": "code",
      "execution_count": 9,
      "metadata": {
        "id": "tol1sdsMKjLA",
        "colab": {
          "base_uri": "https://localhost:8080/"
        },
        "outputId": "96708ddc-ccea-4798-df68-7e628924f719"
      },
      "outputs": [
        {
          "output_type": "stream",
          "name": "stdout",
          "text": [
            "Model: \"sequential\"\n",
            "_________________________________________________________________\n",
            " Layer (type)                Output Shape              Param #   \n",
            "=================================================================\n",
            " conv1d (Conv1D)             (None, 801, 256)          1536      \n",
            "                                                                 \n",
            " max_pooling1d (MaxPooling1D  (None, 401, 256)         0         \n",
            " )                                                               \n",
            "                                                                 \n",
            " conv1d_1 (Conv1D)           (None, 401, 256)          327936    \n",
            "                                                                 \n",
            " max_pooling1d_1 (MaxPooling  (None, 201, 256)         0         \n",
            " 1D)                                                             \n",
            "                                                                 \n",
            " conv1d_2 (Conv1D)           (None, 201, 128)          163968    \n",
            "                                                                 \n",
            " max_pooling1d_2 (MaxPooling  (None, 101, 128)         0         \n",
            " 1D)                                                             \n",
            "                                                                 \n",
            " dropout (Dropout)           (None, 101, 128)          0         \n",
            "                                                                 \n",
            " conv1d_3 (Conv1D)           (None, 101, 64)           41024     \n",
            "                                                                 \n",
            " max_pooling1d_3 (MaxPooling  (None, 51, 64)           0         \n",
            " 1D)                                                             \n",
            "                                                                 \n",
            " flatten (Flatten)           (None, 3264)              0         \n",
            "                                                                 \n",
            " dense (Dense)               (None, 32)                104480    \n",
            "                                                                 \n",
            " dropout_1 (Dropout)         (None, 32)                0         \n",
            "                                                                 \n",
            " dense_1 (Dense)             (None, 5)                 165       \n",
            "                                                                 \n",
            "=================================================================\n",
            "Total params: 639,109\n",
            "Trainable params: 639,109\n",
            "Non-trainable params: 0\n",
            "_________________________________________________________________\n"
          ]
        }
      ],
      "source": [
        "model=Sequential()\n",
        "model.add(Conv1D(256, kernel_size=5, strides=1, padding='same', activation='relu', input_shape=(x_train.shape[1], 1)))\n",
        "model.add(MaxPooling1D(pool_size=5, strides = 2, padding = 'same'))\n",
        "\n",
        "model.add(Conv1D(256, kernel_size=5, strides=1, padding='same', activation='relu'))\n",
        "model.add(MaxPooling1D(pool_size=5, strides = 2, padding = 'same'))\n",
        "\n",
        "model.add(Conv1D(128, kernel_size=5, strides=1, padding='same', activation='relu'))\n",
        "model.add(MaxPooling1D(pool_size=5, strides = 2, padding = 'same'))\n",
        "model.add(Dropout(0.2))\n",
        "\n",
        "model.add(Conv1D(64, kernel_size=5, strides=1, padding='same', activation='relu'))\n",
        "model.add(MaxPooling1D(pool_size=5, strides = 2, padding = 'same'))\n",
        "\n",
        "model.add(Flatten())\n",
        "model.add(Dense(units=32, activation='relu'))\n",
        "model.add(Dropout(0.3))\n",
        "\n",
        "model.add(Dense(units=5, activation='softmax'))\n",
        "model.compile(optimizer = 'adam' , loss = 'categorical_crossentropy' , metrics = ['accuracy'])\n",
        "\n",
        "model.summary()"
      ]
    },
    {
      "cell_type": "code",
      "source": [
        "from keras import backend as K\n",
        "K.set_value(model.optimizer.learning_rate, 0.0001)"
      ],
      "metadata": {
        "id": "Qw9NPGWPrPDo"
      },
      "execution_count": 10,
      "outputs": []
    },
    {
      "cell_type": "code",
      "execution_count": 11,
      "metadata": {
        "colab": {
          "base_uri": "https://localhost:8080/"
        },
        "id": "ofg9DGDjKwBq",
        "outputId": "4284fdb3-3162-4fbb-e658-4fd5b2376236"
      },
      "outputs": [
        {
          "output_type": "stream",
          "name": "stdout",
          "text": [
            "Epoch 1/60\n",
            "111/111 [==============================] - 217s 2s/step - loss: 1.5804 - accuracy: 0.2320 - val_loss: 1.5660 - val_accuracy: 0.2520 - lr: 1.0000e-04\n",
            "Epoch 2/60\n",
            "111/111 [==============================] - 216s 2s/step - loss: 1.5634 - accuracy: 0.2563 - val_loss: 1.5603 - val_accuracy: 0.2916 - lr: 1.0000e-04\n",
            "Epoch 3/60\n",
            "111/111 [==============================] - 210s 2s/step - loss: 1.5532 - accuracy: 0.2604 - val_loss: 1.5519 - val_accuracy: 0.2950 - lr: 1.0000e-04\n",
            "Epoch 4/60\n",
            "111/111 [==============================] - 207s 2s/step - loss: 1.5483 - accuracy: 0.2689 - val_loss: 1.5482 - val_accuracy: 0.2908 - lr: 1.0000e-04\n",
            "Epoch 5/60\n",
            "111/111 [==============================] - 205s 2s/step - loss: 1.5417 - accuracy: 0.2716 - val_loss: 1.5488 - val_accuracy: 0.2669 - lr: 1.0000e-04\n",
            "Epoch 6/60\n",
            "111/111 [==============================] - 205s 2s/step - loss: 1.5375 - accuracy: 0.2857 - val_loss: 1.5276 - val_accuracy: 0.3035 - lr: 1.0000e-04\n",
            "Epoch 7/60\n",
            "111/111 [==============================] - 202s 2s/step - loss: 1.5310 - accuracy: 0.2780 - val_loss: 1.5204 - val_accuracy: 0.3078 - lr: 1.0000e-04\n",
            "Epoch 8/60\n",
            "111/111 [==============================] - 202s 2s/step - loss: 1.5224 - accuracy: 0.2983 - val_loss: 1.5138 - val_accuracy: 0.3074 - lr: 1.0000e-04\n",
            "Epoch 9/60\n",
            "111/111 [==============================] - 202s 2s/step - loss: 1.5150 - accuracy: 0.3023 - val_loss: 1.5024 - val_accuracy: 0.3086 - lr: 1.0000e-04\n",
            "Epoch 10/60\n",
            "111/111 [==============================] - 202s 2s/step - loss: 1.5105 - accuracy: 0.3014 - val_loss: 1.5000 - val_accuracy: 0.2997 - lr: 1.0000e-04\n",
            "Epoch 11/60\n",
            "111/111 [==============================] - 200s 2s/step - loss: 1.5052 - accuracy: 0.3111 - val_loss: 1.4916 - val_accuracy: 0.3133 - lr: 1.0000e-04\n",
            "Epoch 12/60\n",
            "111/111 [==============================] - 203s 2s/step - loss: 1.4953 - accuracy: 0.3080 - val_loss: 1.4822 - val_accuracy: 0.3193 - lr: 1.0000e-04\n",
            "Epoch 13/60\n",
            "111/111 [==============================] - 202s 2s/step - loss: 1.4841 - accuracy: 0.3225 - val_loss: 1.4714 - val_accuracy: 0.3346 - lr: 1.0000e-04\n",
            "Epoch 14/60\n",
            "111/111 [==============================] - 203s 2s/step - loss: 1.4735 - accuracy: 0.3229 - val_loss: 1.4710 - val_accuracy: 0.3380 - lr: 1.0000e-04\n",
            "Epoch 15/60\n",
            "111/111 [==============================] - 205s 2s/step - loss: 1.4600 - accuracy: 0.3332 - val_loss: 1.4510 - val_accuracy: 0.3436 - lr: 1.0000e-04\n",
            "Epoch 16/60\n",
            "111/111 [==============================] - 202s 2s/step - loss: 1.4532 - accuracy: 0.3372 - val_loss: 1.4465 - val_accuracy: 0.3457 - lr: 1.0000e-04\n",
            "Epoch 17/60\n",
            "111/111 [==============================] - 202s 2s/step - loss: 1.4324 - accuracy: 0.3464 - val_loss: 1.4529 - val_accuracy: 0.3504 - lr: 1.0000e-04\n",
            "Epoch 18/60\n",
            "111/111 [==============================] - 202s 2s/step - loss: 1.4255 - accuracy: 0.3561 - val_loss: 1.4300 - val_accuracy: 0.3619 - lr: 1.0000e-04\n",
            "Epoch 19/60\n",
            "111/111 [==============================] - 201s 2s/step - loss: 1.4130 - accuracy: 0.3608 - val_loss: 1.4318 - val_accuracy: 0.3597 - lr: 1.0000e-04\n",
            "Epoch 20/60\n",
            "111/111 [==============================] - 202s 2s/step - loss: 1.4049 - accuracy: 0.3669 - val_loss: 1.4183 - val_accuracy: 0.3653 - lr: 1.0000e-04\n",
            "Epoch 21/60\n",
            "111/111 [==============================] - 202s 2s/step - loss: 1.4033 - accuracy: 0.3612 - val_loss: 1.4106 - val_accuracy: 0.3661 - lr: 1.0000e-04\n",
            "Epoch 22/60\n",
            "111/111 [==============================] - 202s 2s/step - loss: 1.3829 - accuracy: 0.3850 - val_loss: 1.4034 - val_accuracy: 0.3848 - lr: 1.0000e-04\n",
            "Epoch 23/60\n",
            "111/111 [==============================] - 202s 2s/step - loss: 1.3700 - accuracy: 0.3872 - val_loss: 1.4133 - val_accuracy: 0.3670 - lr: 1.0000e-04\n",
            "Epoch 24/60\n",
            "111/111 [==============================] - 202s 2s/step - loss: 1.3708 - accuracy: 0.3804 - val_loss: 1.3954 - val_accuracy: 0.3819 - lr: 1.0000e-04\n",
            "Epoch 25/60\n",
            "111/111 [==============================] - 204s 2s/step - loss: 1.3473 - accuracy: 0.4002 - val_loss: 1.4000 - val_accuracy: 0.3895 - lr: 1.0000e-04\n",
            "Epoch 26/60\n",
            "111/111 [==============================] - 201s 2s/step - loss: 1.3495 - accuracy: 0.3953 - val_loss: 1.3885 - val_accuracy: 0.3887 - lr: 1.0000e-04\n",
            "Epoch 27/60\n",
            "111/111 [==============================] - 201s 2s/step - loss: 1.3421 - accuracy: 0.4112 - val_loss: 1.3925 - val_accuracy: 0.3785 - lr: 1.0000e-04\n",
            "Epoch 28/60\n",
            "111/111 [==============================] - 203s 2s/step - loss: 1.3191 - accuracy: 0.4080 - val_loss: 1.3902 - val_accuracy: 0.3891 - lr: 1.0000e-04\n",
            "Epoch 29/60\n",
            "111/111 [==============================] - 203s 2s/step - loss: 1.3171 - accuracy: 0.4174 - val_loss: 1.3799 - val_accuracy: 0.4023 - lr: 1.0000e-04\n",
            "Epoch 30/60\n",
            "111/111 [==============================] - 203s 2s/step - loss: 1.3123 - accuracy: 0.4188 - val_loss: 1.3856 - val_accuracy: 0.3908 - lr: 1.0000e-04\n",
            "Epoch 31/60\n",
            "111/111 [==============================] - 200s 2s/step - loss: 1.3044 - accuracy: 0.4305 - val_loss: 1.3745 - val_accuracy: 0.4083 - lr: 1.0000e-04\n",
            "Epoch 32/60\n",
            "111/111 [==============================] - 200s 2s/step - loss: 1.2962 - accuracy: 0.4305 - val_loss: 1.3845 - val_accuracy: 0.4006 - lr: 1.0000e-04\n",
            "Epoch 33/60\n",
            "111/111 [==============================] - 200s 2s/step - loss: 1.2775 - accuracy: 0.4330 - val_loss: 1.3749 - val_accuracy: 0.4074 - lr: 1.0000e-04\n",
            "Epoch 34/60\n",
            "111/111 [==============================] - 200s 2s/step - loss: 1.2794 - accuracy: 0.4374 - val_loss: 1.3633 - val_accuracy: 0.4061 - lr: 1.0000e-04\n",
            "Epoch 35/60\n",
            "111/111 [==============================] - 199s 2s/step - loss: 1.2594 - accuracy: 0.4454 - val_loss: 1.3582 - val_accuracy: 0.4138 - lr: 1.0000e-04\n",
            "Epoch 36/60\n",
            "111/111 [==============================] - 198s 2s/step - loss: 1.2527 - accuracy: 0.4516 - val_loss: 1.3510 - val_accuracy: 0.4210 - lr: 1.0000e-04\n",
            "Epoch 37/60\n",
            "111/111 [==============================] - 198s 2s/step - loss: 1.2545 - accuracy: 0.4506 - val_loss: 1.3702 - val_accuracy: 0.4070 - lr: 1.0000e-04\n",
            "Epoch 38/60\n",
            "111/111 [==============================] - 193s 2s/step - loss: 1.2419 - accuracy: 0.4564 - val_loss: 1.3775 - val_accuracy: 0.3972 - lr: 1.0000e-04\n",
            "Epoch 39/60\n",
            "111/111 [==============================] - 198s 2s/step - loss: 1.2250 - accuracy: 0.4625 - val_loss: 1.3730 - val_accuracy: 0.4091 - lr: 1.0000e-04\n",
            "Epoch 40/60\n",
            "111/111 [==============================] - 198s 2s/step - loss: 1.2127 - accuracy: 0.4728 - val_loss: 1.3501 - val_accuracy: 0.4236 - lr: 1.0000e-04\n",
            "Epoch 41/60\n",
            "111/111 [==============================] - 194s 2s/step - loss: 1.2093 - accuracy: 0.4725 - val_loss: 1.3535 - val_accuracy: 0.4134 - lr: 1.0000e-04\n",
            "Epoch 42/60\n",
            "111/111 [==============================] - 203s 2s/step - loss: 1.1929 - accuracy: 0.4848 - val_loss: 1.3619 - val_accuracy: 0.4244 - lr: 1.0000e-04\n",
            "Epoch 43/60\n",
            "111/111 [==============================] - 196s 2s/step - loss: 1.1907 - accuracy: 0.4831 - val_loss: 1.3737 - val_accuracy: 0.4014 - lr: 1.0000e-04\n",
            "Epoch 44/60\n",
            "111/111 [==============================] - 201s 2s/step - loss: 1.1864 - accuracy: 0.4861 - val_loss: 1.3637 - val_accuracy: 0.4125 - lr: 1.0000e-04\n",
            "Epoch 45/60\n",
            "111/111 [==============================] - 198s 2s/step - loss: 1.1760 - accuracy: 0.4929 - val_loss: 1.3456 - val_accuracy: 0.4278 - lr: 1.0000e-04\n",
            "Epoch 46/60\n",
            "111/111 [==============================] - 202s 2s/step - loss: 1.1645 - accuracy: 0.4965 - val_loss: 1.3766 - val_accuracy: 0.4108 - lr: 1.0000e-04\n",
            "Epoch 47/60\n",
            "111/111 [==============================] - 197s 2s/step - loss: 1.1533 - accuracy: 0.5014 - val_loss: 1.3673 - val_accuracy: 0.4287 - lr: 1.0000e-04\n",
            "Epoch 48/60\n",
            "111/111 [==============================] - 203s 2s/step - loss: 1.1514 - accuracy: 0.5027 - val_loss: 1.3717 - val_accuracy: 0.4193 - lr: 1.0000e-04\n",
            "Epoch 49/60\n",
            "111/111 [==============================] - 202s 2s/step - loss: 1.1410 - accuracy: 0.5014 - val_loss: 1.3718 - val_accuracy: 0.4321 - lr: 1.0000e-04\n",
            "Epoch 50/60\n",
            "111/111 [==============================] - 199s 2s/step - loss: 1.1399 - accuracy: 0.5070 - val_loss: 1.3505 - val_accuracy: 0.4223 - lr: 1.0000e-04\n",
            "Epoch 51/60\n",
            "111/111 [==============================] - 202s 2s/step - loss: 1.1237 - accuracy: 0.5121 - val_loss: 1.3671 - val_accuracy: 0.4368 - lr: 1.0000e-04\n",
            "Epoch 52/60\n",
            "111/111 [==============================] - 201s 2s/step - loss: 1.1118 - accuracy: 0.5257 - val_loss: 1.3689 - val_accuracy: 0.4347 - lr: 1.0000e-04\n",
            "Epoch 53/60\n",
            "111/111 [==============================] - 196s 2s/step - loss: 1.1115 - accuracy: 0.5199 - val_loss: 1.3986 - val_accuracy: 0.4155 - lr: 1.0000e-04\n",
            "Epoch 54/60\n",
            "111/111 [==============================] - 201s 2s/step - loss: 1.1091 - accuracy: 0.5220 - val_loss: 1.3628 - val_accuracy: 0.4236 - lr: 1.0000e-04\n",
            "Epoch 55/60\n",
            "111/111 [==============================] - 201s 2s/step - loss: 1.0885 - accuracy: 0.5341 - val_loss: 1.3955 - val_accuracy: 0.4100 - lr: 1.0000e-04\n",
            "Epoch 56/60\n",
            "111/111 [==============================] - 196s 2s/step - loss: 1.0940 - accuracy: 0.5301 - val_loss: 1.3939 - val_accuracy: 0.4057 - lr: 1.0000e-04\n",
            "Epoch 57/60\n",
            "111/111 [==============================] - 200s 2s/step - loss: 1.0802 - accuracy: 0.5294 - val_loss: 1.3797 - val_accuracy: 0.4278 - lr: 1.0000e-04\n",
            "Epoch 58/60\n",
            "111/111 [==============================] - 200s 2s/step - loss: 1.0712 - accuracy: 0.5348 - val_loss: 1.3856 - val_accuracy: 0.4172 - lr: 1.0000e-04\n",
            "Epoch 59/60\n",
            "111/111 [==============================] - 200s 2s/step - loss: 1.0553 - accuracy: 0.5475 - val_loss: 1.4199 - val_accuracy: 0.4155 - lr: 1.0000e-04\n",
            "Epoch 60/60\n",
            "111/111 [==============================] - 198s 2s/step - loss: 1.0581 - accuracy: 0.5433 - val_loss: 1.4008 - val_accuracy: 0.4304 - lr: 1.0000e-04\n"
          ]
        }
      ],
      "source": [
        "rlrp = ReduceLROnPlateau(monitor='loss', factor=0.4, verbose=0, patience=2, min_lr=0.0000001)\n",
        "history=model.fit(x_train, y_train, batch_size=64, epochs=60, validation_data=(x_test, y_test), callbacks=[rlrp])"
      ]
    },
    {
      "cell_type": "code",
      "source": [
        "print(\"Accuracy of our model on test data : \" , model.evaluate(x_test,y_test)[1]*100 , \"%\")\n",
        "\n",
        "epochs = [i for i in range(60)]\n",
        "fig , ax = plt.subplots(1,2)\n",
        "train_acc = history.history['accuracy']\n",
        "train_loss = history.history['loss']\n",
        "test_acc = history.history['val_accuracy']\n",
        "test_loss = history.history['val_loss']\n",
        "\n",
        "fig.set_size_inches(20,6)\n",
        "ax[0].plot(epochs , train_loss , label = 'Training Loss')\n",
        "ax[0].plot(epochs , test_loss , label = 'Testing Loss')\n",
        "ax[0].set_title('Training & Testing Loss')\n",
        "ax[0].legend()\n",
        "ax[0].set_xlabel(\"Epochs\")\n",
        "\n",
        "ax[1].plot(epochs , train_acc , label = 'Training Accuracy')\n",
        "ax[1].plot(epochs , test_acc , label = 'Testing Accuracy')\n",
        "ax[1].set_title('Training & Testing Accuracy')\n",
        "ax[1].legend()\n",
        "ax[1].set_xlabel(\"Epochs\")\n",
        "plt.show()"
      ],
      "metadata": {
        "colab": {
          "base_uri": "https://localhost:8080/",
          "height": 439
        },
        "id": "ggmJoXgqpo8p",
        "outputId": "41668130-f471-453d-9683-63bad330b998"
      },
      "execution_count": 12,
      "outputs": [
        {
          "output_type": "stream",
          "name": "stdout",
          "text": [
            "74/74 [==============================] - 15s 204ms/step - loss: 1.4008 - accuracy: 0.4304\n",
            "Accuracy of our model on test data :  43.03959012031555 %\n"
          ]
        },
        {
          "output_type": "display_data",
          "data": {
            "text/plain": [
              "<Figure size 1440x432 with 2 Axes>"
            ],
            "image/png": "[encoded data removed]"
          },
          "metadata": {
            "needs_background": "light"
          }
        }
      ]
    },
    {
      "cell_type": "code",
      "source": [
        "# predicting on test data.\n",
        "pred_test = model.predict(x_test)\n",
        "y_pred = encoder.inverse_transform(pred_test)\n",
        "\n",
        "y_test = encoder.inverse_transform(y_test)"
      ],
      "metadata": {
        "colab": {
          "base_uri": "https://localhost:8080/"
        },
        "id": "84RGPchqptID",
        "outputId": "f5514f15-f48e-49ef-f932-e3dd5844deb4"
      },
      "execution_count": 13,
      "outputs": [
        {
          "output_type": "stream",
          "name": "stdout",
          "text": [
            "74/74 [==============================] - 20s 265ms/step\n"
          ]
        }
      ]
    },
    {
      "cell_type": "code",
      "source": [
        "df = pd.DataFrame(columns=['Predicted Labels', 'Actual Labels'])\n",
        "df['Predicted Labels'] = y_pred.flatten()\n",
        "df['Actual Labels'] = y_test.flatten()\n",
        "\n",
        "df.head(10)"
      ],
      "metadata": {
        "colab": {
          "base_uri": "https://localhost:8080/",
          "height": 363
        },
        "id": "l6s12nXvpzc-",
        "outputId": "e3700856-1cb2-492b-d92c-bb285707ac7e"
      },
      "execution_count": 14,
      "outputs": [
        {
          "output_type": "execute_result",
          "data": {
            "text/plain": [
              "   Predicted Labels  Actual Labels\n",
              "0                 3              3\n",
              "1                 0              1\n",
              "2                 4              1\n",
              "3                 4              1\n",
              "4                 5              3\n",
              "5                 3              5\n",
              "6                 1              1\n",
              "7                 5              5\n",
              "8                 3              3\n",
              "9                 3              4"
            ],
            "text/html": [
              "\n",
              "  <div id=\"df-92ec3f1f-73e1-4103-bb3f-946e408931e9\">\n",
              "    <div class=\"colab-df-container\">\n",
              "      <div>\n",
              "<style scoped>\n",
              "    .dataframe tbody tr th:only-of-type {\n",
              "        vertical-align: middle;\n",
              "    }\n",
              "\n",
              "    .dataframe tbody tr th {\n",
              "        vertical-align: top;\n",
              "    }\n",
              "\n",
              "    .dataframe thead th {\n",
              "        text-align: right;\n",
              "    }\n",
              "</style>\n",
              "<table border=\"1\" class=\"dataframe\">\n",
              "  <thead>\n",
              "    <tr style=\"text-align: right;\">\n",
              "      <th></th>\n",
              "      <th>Predicted Labels</th>\n",
              "      <th>Actual Labels</th>\n",
              "    </tr>\n",
              "  </thead>\n",
              "  <tbody>\n",
              "    <tr>\n",
              "      <th>0</th>\n",
              "      <td>3</td>\n",
              "      <td>3</td>\n",
              "    </tr>\n",
              "    <tr>\n",
              "      <th>1</th>\n",
              "      <td>0</td>\n",
              "      <td>1</td>\n",
              "    </tr>\n",
              "    <tr>\n",
              "      <th>2</th>\n",
              "      <td>4</td>\n",
              "      <td>1</td>\n",
              "    </tr>\n",
              "    <tr>\n",
              "      <th>3</th>\n",
              "      <td>4</td>\n",
              "      <td>1</td>\n",
              "    </tr>\n",
              "    <tr>\n",
              "      <th>4</th>\n",
              "      <td>5</td>\n",
              "      <td>3</td>\n",
              "    </tr>\n",
              "    <tr>\n",
              "      <th>5</th>\n",
              "      <td>3</td>\n",
              "      <td>5</td>\n",
              "    </tr>\n",
              "    <tr>\n",
              "      <th>6</th>\n",
              "      <td>1</td>\n",
              "      <td>1</td>\n",
              "    </tr>\n",
              "    <tr>\n",
              "      <th>7</th>\n",
              "      <td>5</td>\n",
              "      <td>5</td>\n",
              "    </tr>\n",
              "    <tr>\n",
              "      <th>8</th>\n",
              "      <td>3</td>\n",
              "      <td>3</td>\n",
              "    </tr>\n",
              "    <tr>\n",
              "      <th>9</th>\n",
              "      <td>3</td>\n",
              "      <td>4</td>\n",
              "    </tr>\n",
              "  </tbody>\n",
              "</table>\n",
              "</div>\n",
              "      <button class=\"colab-df-convert\" onclick=\"convertToInteractive('df-92ec3f1f-73e1-4103-bb3f-946e408931e9')\"\n",
              "              title=\"Convert this dataframe to an interactive table.\"\n",
              "              style=\"display:none;\">\n",
              "        \n",
              "  <svg xmlns=\"http://www.w3.org/2000/svg\" height=\"24px\"viewBox=\"0 0 24 24\"\n",
              "       width=\"24px\">\n",
              "    <path d=\"M0 0h24v24H0V0z\" fill=\"none\"/>\n",
              "    <path d=\"M18.56 5.44l.94 2.06.94-2.06 2.06-.94-2.06-.94-.94-2.06-.94 2.06-2.06.94zm-11 1L8.5 8.5l.94-2.06 2.06-.94-2.06-.94L8.5 2.5l-.94 2.06-2.06.94zm10 10l.94 2.06.94-2.06 2.06-.94-2.06-.94-.94-2.06-.94 2.06-2.06.94z\"/><path d=\"M17.41 7.96l-1.37-1.37c-.4-.4-.92-.59-1.43-.59-.52 0-1.04.2-1.43.59L10.3 9.45l-7.72 7.72c-.78.78-.78 2.05 0 2.83L4 21.41c.39.39.9.59 1.41.59.51 0 1.02-.2 1.41-.59l7.78-7.78 2.81-2.81c.8-.78.8-2.07 0-2.86zM5.41 20L4 18.59l7.72-7.72 1.47 1.35L5.41 20z\"/>\n",
              "  </svg>\n",
              "      </button>\n",
              "      \n",
              "  <style>\n",
              "    .colab-df-container {\n",
              "      display:flex;\n",
              "      flex-wrap:wrap;\n",
              "      gap: 12px;\n",
              "    }\n",
              "\n",
              "    .colab-df-convert {\n",
              "      background-color: #E8F0FE;\n",
              "      border: none;\n",
              "      border-radius: 50%;\n",
              "      cursor: pointer;\n",
              "      display: none;\n",
              "      fill: #1967D2;\n",
              "      height: 32px;\n",
              "      padding: 0 0 0 0;\n",
              "      width: 32px;\n",
              "    }\n",
              "\n",
              "    .colab-df-convert:hover {\n",
              "      background-color: #E2EBFA;\n",
              "      box-shadow: 0px 1px 2px rgba(60, 64, 67, 0.3), 0px 1px 3px 1px rgba(60, 64, 67, 0.15);\n",
              "      fill: #174EA6;\n",
              "    }\n",
              "\n",
              "    [theme=dark] .colab-df-convert {\n",
              "      background-color: #3B4455;\n",
              "      fill: #D2E3FC;\n",
              "    }\n",
              "\n",
              "    [theme=dark] .colab-df-convert:hover {\n",
              "      background-color: #434B5C;\n",
              "      box-shadow: 0px 1px 3px 1px rgba(0, 0, 0, 0.15);\n",
              "      filter: drop-shadow(0px 1px 2px rgba(0, 0, 0, 0.3));\n",
              "      fill: #FFFFFF;\n",
              "    }\n",
              "  </style>\n",
              "\n",
              "      <script>\n",
              "        const buttonEl =\n",
              "          document.querySelector('#df-92ec3f1f-73e1-4103-bb3f-946e408931e9 button.colab-df-convert');\n",
              "        buttonEl.style.display =\n",
              "          google.colab.kernel.accessAllowed ? 'block' : 'none';\n",
              "\n",
              "        async function convertToInteractive(key) {\n",
              "          const element = document.querySelector('#df-92ec3f1f-73e1-4103-bb3f-946e408931e9');\n",
              "          const dataTable =\n",
              "            await google.colab.kernel.invokeFunction('convertToInteractive',\n",
              "                                                     [key], {});\n",
              "          if (!dataTable) return;\n",
              "\n",
              "          const docLinkHtml = 'Like what you see? Visit the ' +\n",
              "            '<a target=\"_blank\" href=https://colab.research.google.com/notebooks/data_table.ipynb>data table notebook</a>'\n",
              "            + ' to learn more about interactive tables.';\n",
              "          element.innerHTML = '';\n",
              "          dataTable['output_type'] = 'display_data';\n",
              "          await google.colab.output.renderOutput(dataTable, element);\n",
              "          const docLink = document.createElement('div');\n",
              "          docLink.innerHTML = docLinkHtml;\n",
              "          element.appendChild(docLink);\n",
              "        }\n",
              "      </script>\n",
              "    </div>\n",
              "  </div>\n",
              "  "
            ]
          },
          "metadata": {},
          "execution_count": 14
        }
      ]
    },
    {
      "cell_type": "code",
      "source": [
        "cm = confusion_matrix(y_test, y_pred)\n",
        "plt.figure(figsize = (12, 10))\n",
        "cm = pd.DataFrame(cm , index = [i for i in encoder.categories_] , columns = [i for i in encoder.categories_])\n",
        "sns.heatmap(cm, linecolor='white', cmap='Blues', linewidth=1, annot=True, fmt='')\n",
        "plt.title('Confusion Matrix', size=20)\n",
        "plt.xlabel('Predicted Labels', size=14)\n",
        "plt.ylabel('Actual Labels', size=14)\n",
        "plt.show()"
      ],
      "metadata": {
        "colab": {
          "base_uri": "https://localhost:8080/",
          "height": 630
        },
        "id": "g_R37nsDp4sf",
        "outputId": "70724fae-09e8-4575-917f-62a8d2132f77"
      },
      "execution_count": 15,
      "outputs": [
        {
          "output_type": "display_data",
          "data": {
            "text/plain": [
              "<Figure size 864x720 with 2 Axes>"
            ],
            "image/png": "[encoded data removed]"
          },
          "metadata": {
            "needs_background": "light"
          }
        }
      ]
    },
    {
      "cell_type": "code",
      "source": [
        "print(classification_report(y_test, y_pred))"
      ],
      "metadata": {
        "colab": {
          "base_uri": "https://localhost:8080/"
        },
        "id": "fxYwxUEkp-ks",
        "outputId": "8c1a7f84-3d2d-4705-b8c5-6e71fd69d486"
      },
      "execution_count": 16,
      "outputs": [
        {
          "output_type": "stream",
          "name": "stdout",
          "text": [
            "              precision    recall  f1-score   support\n",
            "\n",
            "           0       0.52      0.39      0.44       459\n",
            "           1       0.37      0.58      0.45       439\n",
            "           3       0.52      0.46      0.49       484\n",
            "           4       0.36      0.32      0.34       468\n",
            "           5       0.44      0.41      0.42       499\n",
            "\n",
            "    accuracy                           0.43      2349\n",
            "   macro avg       0.44      0.43      0.43      2349\n",
            "weighted avg       0.44      0.43      0.43      2349\n",
            "\n"
          ]
        }
      ]
    }
  ],
  "metadata": {
    "colab": {
      "provenance": []
    },
    "kernelspec": {
      "display_name": "Python 3",
      "name": "python3"
    },
    "language_info": {
      "name": "python"
    },
    "gpuClass": "standard"
  },
  "nbformat": 4,
  "nbformat_minor": 0
}